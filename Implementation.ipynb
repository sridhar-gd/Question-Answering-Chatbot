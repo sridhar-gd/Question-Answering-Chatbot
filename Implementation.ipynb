{
 "cells": [
  {
   "cell_type": "code",
   "execution_count": 1,
   "metadata": {},
   "outputs": [],
   "source": [
    "from langchain.llms import OpenAI"
   ]
  },
  {
   "cell_type": "code",
   "execution_count": 2,
   "metadata": {},
   "outputs": [],
   "source": [
    "import os\n",
    "os.environ[\"OPENAI_API_KEY\"] = \"**************************************************\""
   ]
  },
  {
   "cell_type": "code",
   "execution_count": 3,
   "metadata": {},
   "outputs": [
    {
     "name": "stderr",
     "output_type": "stream",
     "text": [
      "c:\\Users\\User\\AppData\\Local\\Programs\\Python\\Python311\\Lib\\site-packages\\langchain_core\\_api\\deprecation.py:117: LangChainDeprecationWarning: The class `langchain_community.llms.openai.OpenAI` was deprecated in langchain-community 0.0.10 and will be removed in 0.2.0. An updated version of the class exists in the langchain-openai package and should be used instead. To use it run `pip install -U langchain-openai` and import as `from langchain_openai import OpenAI`.\n",
      "  warn_deprecated(\n"
     ]
    }
   ],
   "source": [
    "llm = OpenAI(openai_api_key = os.environ[\"OPENAI_API_KEY\"], temperature = 0.6)"
   ]
  },
  {
   "cell_type": "code",
   "execution_count": 4,
   "metadata": {},
   "outputs": [
    {
     "name": "stderr",
     "output_type": "stream",
     "text": [
      "c:\\Users\\User\\AppData\\Local\\Programs\\Python\\Python311\\Lib\\site-packages\\langchain_core\\_api\\deprecation.py:117: LangChainDeprecationWarning: The function `predict` was deprecated in LangChain 0.1.7 and will be removed in 0.2.0. Use invoke instead.\n",
      "  warn_deprecated(\n"
     ]
    },
    {
     "name": "stdout",
     "output_type": "stream",
     "text": [
      "\n",
      "\n",
      "The capital of India is New Delhi.\n"
     ]
    }
   ],
   "source": [
    "text = \"What is the capital of India\"\n",
    "print(llm.predict(text))"
   ]
  },
  {
   "cell_type": "code",
   "execution_count": 5,
   "metadata": {},
   "outputs": [
    {
     "data": {
      "text/plain": [
       "'\\n\\n1. Establish clear expectations: Start the year by setting clear expectations for behavior, class participation, and academic performance. Make sure students understand what is expected of them and the consequences for not meeting those expectations.\\n\\n2. Build relationships: Get to know your students and build positive relationships with them. Show genuine interest in their lives and make an effort to connect with them on a personal level. This will help create a positive and supportive classroom environment.\\n\\n3. Use different teaching strategies: Ninth grade students have a wide range of learning styles and preferences. Use a variety of teaching strategies such as lectures, group work, hands-on activities, and technology to engage all students.\\n\\n4. Encourage participation: Encourage all students to participate in class discussions and activities, even the shy ones. This will help them feel more confident and engaged in the learning process.\\n\\n5. Provide structure and routine: Ninth grade students are still adjusting to high school and may benefit from a structured and predictable classroom environment. Have a consistent routine for class activities and provide clear instructions for assignments.\\n\\n6. Be patient and understanding: Remember that ninth grade students are still teenagers and may struggle with maturity and self-control. Be patient and understanding with them, and offer support and guidance when needed.\\n\\n7. Use positive reinforcement:'"
      ]
     },
     "execution_count": 5,
     "metadata": {},
     "output_type": "execute_result"
    }
   ],
   "source": [
    "output = llm.predict(\"How to handle class Ninth grade students\")\n",
    "output"
   ]
  },
  {
   "cell_type": "markdown",
   "metadata": {},
   "source": [
    "### Prompt Templates and LLMChain"
   ]
  },
  {
   "cell_type": "code",
   "execution_count": 6,
   "metadata": {},
   "outputs": [
    {
     "data": {
      "text/plain": [
       "'tell me the capital of the Egypt'"
      ]
     },
     "execution_count": 6,
     "metadata": {},
     "output_type": "execute_result"
    }
   ],
   "source": [
    "from langchain.prompts import PromptTemplate\n",
    "prompt_template = PromptTemplate(input_variables = ['country'], template = \"tell me the capital of the {country}\")\n",
    "prompt_template.format(country = \"Egypt\")"
   ]
  },
  {
   "cell_type": "code",
   "execution_count": 7,
   "metadata": {},
   "outputs": [
    {
     "name": "stderr",
     "output_type": "stream",
     "text": [
      "c:\\Users\\User\\AppData\\Local\\Programs\\Python\\Python311\\Lib\\site-packages\\langchain_core\\_api\\deprecation.py:117: LangChainDeprecationWarning: The function `run` was deprecated in LangChain 0.1.0 and will be removed in 0.2.0. Use invoke instead.\n",
      "  warn_deprecated(\n"
     ]
    },
    {
     "data": {
      "text/plain": [
       "'\\n\\nThe capital of Egypt is Cairo. '"
      ]
     },
     "execution_count": 7,
     "metadata": {},
     "output_type": "execute_result"
    }
   ],
   "source": [
    "from langchain.chains import LLMChain\n",
    "chain = LLMChain(llm=llm, prompt = prompt_template)\n",
    "chain.run(\"Egypt\")"
   ]
  },
  {
   "cell_type": "markdown",
   "metadata": {},
   "source": [
    "### Combining Multiple chains using Simple Sequential Chain"
   ]
  },
  {
   "cell_type": "code",
   "execution_count": 8,
   "metadata": {},
   "outputs": [],
   "source": [
    "capital_template = PromptTemplate(input_variables = ['capital'], template = \"Please tell me the capital of the {country}\")\n",
    "capital_chain = LLMChain(llm=llm, prompt = capital_template)\n",
    "\n",
    "famous_template = PromptTemplate(input_variables = ['capital'], template = \"Suggest me some amazing places to visit in the {capital}\")\n",
    "famous_chain = LLMChain(llm=llm, prompt = famous_template)"
   ]
  },
  {
   "cell_type": "code",
   "execution_count": 9,
   "metadata": {},
   "outputs": [
    {
     "data": {
      "text/plain": [
       "\" Here are some amazing places to visit in Cairo:\\n\\n1. The Pyramids of Giza: These ancient wonders of the world are a must-see when visiting Cairo. The Great Pyramid of Giza is the oldest and largest of the three pyramids and is a marvel of engineering and architecture.\\n\\n2. The Egyptian Museum: This museum houses an impressive collection of ancient Egyptian artifacts, including the famous treasures of King Tutankhamun.\\n\\n3. Khan El Khalili Bazaar: This bustling market is a great place to experience the sights, sounds, and smells of Cairo. You can find everything from spices and souvenirs to traditional handicrafts.\\n\\n4. Citadel of Cairo: This medieval fortress is a symbol of Cairo's rich history and offers stunning views of the city. It also houses several mosques and museums.\\n\\n5. Al-Azhar Park: This beautiful green space is a peaceful escape from the bustling city. It offers stunning views of Cairo and is a great spot for a picnic or a stroll.\\n\\n6. Coptic Cairo: This area is home to some of the oldest churches in Egypt, including the Hanging Church and the Church of St. George. It is a must-visit for anyone interested in the history of Christianity in Egypt.\\n\\n7. Nile River Cruise\""
      ]
     },
     "execution_count": 9,
     "metadata": {},
     "output_type": "execute_result"
    }
   ],
   "source": [
    "from langchain.chains import SimpleSequentialChain\n",
    "chain = SimpleSequentialChain(chains = [capital_chain, famous_chain])\n",
    "chain.run(\"Egypt\")"
   ]
  },
  {
   "cell_type": "markdown",
   "metadata": {},
   "source": [
    "### Sequential Chain"
   ]
  },
  {
   "cell_type": "code",
   "execution_count": 10,
   "metadata": {},
   "outputs": [],
   "source": [
    "capital_template = PromptTemplate(input_variables = ['capital'], template = \"Please tell me the capital of the {country}\")\n",
    "capital_chain = LLMChain(llm=llm, prompt = capital_template, output_key = \"capital\")\n",
    "\n",
    "\n",
    "famous_template = PromptTemplate(input_variables = ['capital'], template = \"Suggest me some amazing places to visit in the {capital}\")\n",
    "famous_chain = LLMChain(llm=llm, prompt = famous_template, output_key = \"places\")"
   ]
  },
  {
   "cell_type": "code",
   "execution_count": 11,
   "metadata": {},
   "outputs": [
    {
     "name": "stderr",
     "output_type": "stream",
     "text": [
      "c:\\Users\\User\\AppData\\Local\\Programs\\Python\\Python311\\Lib\\site-packages\\langchain_core\\_api\\deprecation.py:117: LangChainDeprecationWarning: The function `__call__` was deprecated in LangChain 0.1.0 and will be removed in 0.2.0. Use invoke instead.\n",
      "  warn_deprecated(\n"
     ]
    },
    {
     "data": {
      "text/plain": [
       "{'country': 'Egypt',\n",
       " 'capital': '\\n\\nThe capital of Egypt is Cairo.',\n",
       " 'places': \" Here are some amazing places to visit in Cairo:\\n\\n1. The Great Pyramids of Giza: Located on the outskirts of Cairo, the Great Pyramids of Giza are a must-visit attraction. These ancient structures are over 4,500 years old and are considered one of the Seven Wonders of the World.\\n\\n2. The Egyptian Museum: This museum is home to a vast collection of ancient Egyptian artifacts, including the famous golden mask of King Tutankhamun. It's a great place to learn about the history and culture of Egypt.\\n\\n3. Khan el-Khalili Bazaar: This bustling market is a must-visit for any shopper. Here, you can find everything from traditional Egyptian souvenirs to spices, jewelry, and more.\\n\\n4. The Citadel of Cairo: This medieval fortress is one of the city's most iconic landmarks. It offers stunning views of the city and is home to several mosques, museums, and other historical sites.\\n\\n5. The Nile River: A visit to Cairo would not be complete without a cruise on the Nile River. You can take a traditional felucca boat ride or a dinner cruise and enjoy the beautiful views of the city from the water.\\n\\n6. Al-Azhar Park: This green oasis in the heart\"}"
      ]
     },
     "execution_count": 11,
     "metadata": {},
     "output_type": "execute_result"
    }
   ],
   "source": [
    "from langchain.chains import SequentialChain\n",
    "chain = SequentialChain(chains = [capital_chain, famous_chain],\n",
    "                        input_variables = ['country'],\n",
    "                        output_variables = ['capital', 'places'])\n",
    "chain({'country':'Egypt'})"
   ]
  },
  {
   "cell_type": "markdown",
   "metadata": {},
   "source": [
    "### Chatmodels with ChatOpenAI"
   ]
  },
  {
   "cell_type": "code",
   "execution_count": 12,
   "metadata": {},
   "outputs": [],
   "source": [
    "from langchain.chat_models import ChatOpenAI"
   ]
  },
  {
   "cell_type": "code",
   "execution_count": 13,
   "metadata": {},
   "outputs": [],
   "source": [
    "from langchain.schema import HumanMessage,SystemMessage,AIMessage"
   ]
  },
  {
   "cell_type": "code",
   "execution_count": 14,
   "metadata": {},
   "outputs": [
    {
     "name": "stderr",
     "output_type": "stream",
     "text": [
      "c:\\Users\\User\\AppData\\Local\\Programs\\Python\\Python311\\Lib\\site-packages\\langchain_core\\_api\\deprecation.py:117: LangChainDeprecationWarning: The class `langchain_community.chat_models.openai.ChatOpenAI` was deprecated in langchain-community 0.0.10 and will be removed in 0.2.0. An updated version of the class exists in the langchain-openai package and should be used instead. To use it run `pip install -U langchain-openai` and import as `from langchain_openai import ChatOpenAI`.\n",
      "  warn_deprecated(\n"
     ]
    }
   ],
   "source": [
    "chatllm = ChatOpenAI(openai_api_key = os.environ[\"OPENAI_API_KEY\"], temperature = 0.6, model = 'gpt-3.5-turbo')\n"
   ]
  },
  {
   "cell_type": "code",
   "execution_count": 15,
   "metadata": {},
   "outputs": [
    {
     "name": "stderr",
     "output_type": "stream",
     "text": [
      "c:\\Users\\User\\AppData\\Local\\Programs\\Python\\Python311\\Lib\\site-packages\\langchain_core\\_api\\deprecation.py:117: LangChainDeprecationWarning: The function `__call__` was deprecated in LangChain 0.1.7 and will be removed in 0.2.0. Use invoke instead.\n",
      "  warn_deprecated(\n"
     ]
    },
    {
     "data": {
      "text/plain": [
       "AIMessage(content='I am not a doctor, but I can provide some general suggestions for managing a fever. \\n\\n1. Rest: Make sure to get plenty of rest to allow your body to recover.\\n2. Stay hydrated: Drink plenty of fluids such as water, herbal tea, or clear broths to stay hydrated.\\n3. Medications: Over-the-counter fever reducers such as acetaminophen or ibuprofen can help reduce fever and relieve discomfort. Be sure to follow the recommended dosage instructions.\\n4. Cool compress: Placing a cool, damp cloth on your forehead or taking a lukewarm bath can help lower your body temperature.\\n5. Monitor your temperature: Keep track of your temperature regularly and seek medical attention if your fever persists or worsens.\\n\\nIf your fever is accompanied by severe symptoms or persists for more than a few days, it is important to consult with a healthcare professional for proper diagnosis and treatment.')"
      ]
     },
     "execution_count": 15,
     "metadata": {},
     "output_type": "execute_result"
    }
   ],
   "source": [
    "chatllm([\n",
    "SystemMessage(content=\"You are an AI assistant speciliazed in healthcare\"),\n",
    "HumanMessage(content=\"Please provide me a remedy for fever\")\n",
    "])\n",
    "\n"
   ]
  },
  {
   "cell_type": "markdown",
   "metadata": {},
   "source": [
    "### Prompt Template + LLM + Output Parser"
   ]
  },
  {
   "cell_type": "code",
   "execution_count": 16,
   "metadata": {},
   "outputs": [],
   "source": [
    "from langchain.chat_models import ChatOpenAI\n",
    "from langchain.prompts.chat import ChatPromptTemplate\n",
    "from langchain.schema import BaseOutputParser"
   ]
  },
  {
   "cell_type": "code",
   "execution_count": 17,
   "metadata": {},
   "outputs": [],
   "source": [
    "class Commaseperatedoutput(BaseOutputParser):\n",
    "    def parse(self,text:str):\n",
    "        return text.strip().split(\",\")"
   ]
  },
  {
   "cell_type": "code",
   "execution_count": 18,
   "metadata": {},
   "outputs": [],
   "source": [
    "template=\"You are a helpful assistant. When the use given any input , you should generate 5 opposite words in a comma seperated list\"\n",
    "human_template=\"{text}\"\n",
    "chatprompt=ChatPromptTemplate.from_messages([\n",
    "    (\"system\",template),\n",
    "    (\"human\",human_template)\n",
    "\n",
    "\n",
    "])"
   ]
  },
  {
   "cell_type": "code",
   "execution_count": 19,
   "metadata": {},
   "outputs": [],
   "source": [
    "chain=chatprompt|chatllm"
   ]
  },
  {
   "cell_type": "code",
   "execution_count": 20,
   "metadata": {},
   "outputs": [
    {
     "data": {
      "text/plain": [
       "AIMessage(content='bad, evil, poor, negative, wrong')"
      ]
     },
     "execution_count": 20,
     "metadata": {},
     "output_type": "execute_result"
    }
   ],
   "source": [
    "chain.invoke({\"text\":\"good\"})"
   ]
  },
  {
   "cell_type": "code",
   "execution_count": null,
   "metadata": {},
   "outputs": [],
   "source": []
  }
 ],
 "metadata": {
  "kernelspec": {
   "display_name": "Python 3",
   "language": "python",
   "name": "python3"
  },
  "language_info": {
   "codemirror_mode": {
    "name": "ipython",
    "version": 3
   },
   "file_extension": ".py",
   "mimetype": "text/x-python",
   "name": "python",
   "nbconvert_exporter": "python",
   "pygments_lexer": "ipython3",
   "version": "3.11.4"
  }
 },
 "nbformat": 4,
 "nbformat_minor": 2
}
